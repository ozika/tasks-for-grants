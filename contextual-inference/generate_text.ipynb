{
 "cells": [
  {
   "cell_type": "code",
   "execution_count": 31,
   "metadata": {},
   "outputs": [
    {
     "data": {
      "text/plain": [
       "'/data/drive/postdoc/grants/resources/tasks-and-sims-for-grants'"
      ]
     },
     "execution_count": 31,
     "metadata": {},
     "output_type": "execute_result"
    }
   ],
   "source": [
    "import pandas as pd\n",
    "import numpy as np\n",
    "import random, os, sys \n",
    "from groo.groo import get_root\n",
    "from TTS.api import TTS\n",
    "import os\n",
    "\n",
    "os.path.join(get_root(\".tasks_root\"))\n"
   ]
  },
  {
   "cell_type": "code",
   "execution_count": 32,
   "metadata": {},
   "outputs": [],
   "source": [
    "\n",
    "textData = pd.read_csv(os.path.join(get_root(\".tasks_root\"),\"contextual-inference\", \"assets\",\"script\", \"script.csv\" ))"
   ]
  },
  {
   "cell_type": "code",
   "execution_count": 33,
   "metadata": {},
   "outputs": [],
   "source": [
    "## tts_models/en/ljspeech/glow-tts\n",
    "# vocoder_models/en/ljspeech/univnet\n",
    "# vocoder_models/en/ljspeech/multiband-melgan\n",
    "# tts_models--en--ljspeech--tacotron2-DDC"
   ]
  },
  {
   "cell_type": "code",
   "execution_count": 34,
   "metadata": {},
   "outputs": [
    {
     "name": "stdout",
     "output_type": "stream",
     "text": [
      " > Downloading model to /home/ondrej/.local/share/tts/tts_models--en--blizzard2013--capacitron-t2-c50\n"
     ]
    },
    {
     "name": "stderr",
     "output_type": "stream",
     "text": [
      "100%|█████████▉| 337M/338M [00:29<00:00, 12.0MiB/s] "
     ]
    },
    {
     "name": "stdout",
     "output_type": "stream",
     "text": [
      " > Model's license - apache 2.0\n",
      " > Check https://choosealicense.com/licenses/apache-2.0/ for more info.\n",
      " > vocoder_models/en/blizzard2013/hifigan_v2 is already downloaded.\n",
      " > Using model: tacotron2\n",
      " > Setting up Audio Processor...\n",
      " | > sample_rate:24000\n",
      " | > resample:False\n",
      " | > num_mels:80\n",
      " | > log_func:np.log10\n",
      " | > min_level_db:-100\n",
      " | > frame_shift_ms:None\n",
      " | > frame_length_ms:None\n",
      " | > ref_level_db:20\n",
      " | > fft_size:1024\n",
      " | > power:1.5\n",
      " | > preemphasis:0.0\n",
      " | > griffin_lim_iters:60\n",
      " | > signal_norm:True\n",
      " | > symmetric_norm:True\n",
      " | > mel_fmin:80.0\n",
      " | > mel_fmax:12000.0\n",
      " | > pitch_fmin:0.0\n",
      " | > pitch_fmax:640.0\n",
      " | > spec_gain:25.0\n",
      " | > stft_pad_mode:reflect\n",
      " | > max_norm:4.0\n",
      " | > clip_norm:True\n",
      " | > do_trim_silence:True\n",
      " | > trim_db:60\n",
      " | > do_sound_norm:False\n",
      " | > do_amp_to_db_linear:True\n",
      " | > do_amp_to_db_mel:True\n",
      " | > do_rms_norm:False\n",
      " | > db_level:None\n",
      " | > stats_path:None\n",
      " | > base:10\n",
      " | > hop_length:256\n",
      " | > win_length:1024\n"
     ]
    },
    {
     "name": "stderr",
     "output_type": "stream",
     "text": [
      "/home/ondrej/anaconda3/envs/python3.10/lib/python3.10/site-packages/TTS/utils/io.py:54: FutureWarning: You are using `torch.load` with `weights_only=False` (the current default value), which uses the default pickle module implicitly. It is possible to construct malicious pickle data which will execute arbitrary code during unpickling (See https://github.com/pytorch/pytorch/blob/main/SECURITY.md#untrusted-models for more details). In a future release, the default value for `weights_only` will be flipped to `True`. This limits the functions that could be executed during unpickling. Arbitrary objects will no longer be allowed to be loaded via this mode unless they are explicitly allowlisted by the user via `torch.serialization.add_safe_globals`. We recommend you start setting `weights_only=True` for any use case where you don't have full control of the loaded file. Please open an issue on GitHub for any issues related to this experimental feature.\n",
      "  return torch.load(f, map_location=map_location, **kwargs)\n"
     ]
    },
    {
     "name": "stdout",
     "output_type": "stream",
     "text": [
      " > Model's reduction rate `r` is set to: 2\n",
      " > Vocoder Model: hifigan\n",
      " > Setting up Audio Processor...\n",
      " | > sample_rate:24000\n",
      " | > resample:False\n",
      " | > num_mels:80\n",
      " | > log_func:np.log10\n",
      " | > min_level_db:-100\n",
      " | > frame_shift_ms:None\n",
      " | > frame_length_ms:None\n",
      " | > ref_level_db:20\n",
      " | > fft_size:1024\n",
      " | > power:1.5\n",
      " | > preemphasis:0.0\n",
      " | > griffin_lim_iters:60\n",
      " | > signal_norm:True\n",
      " | > symmetric_norm:True\n",
      " | > mel_fmin:80.0\n",
      " | > mel_fmax:12000.0\n",
      " | > pitch_fmin:1.0\n",
      " | > pitch_fmax:640.0\n",
      " | > spec_gain:20.0\n",
      " | > stft_pad_mode:reflect\n",
      " | > max_norm:4.0\n",
      " | > clip_norm:True\n",
      " | > do_trim_silence:False\n",
      " | > trim_db:60\n",
      " | > do_sound_norm:True\n",
      " | > do_amp_to_db_linear:True\n",
      " | > do_amp_to_db_mel:True\n",
      " | > do_rms_norm:False\n",
      " | > db_level:None\n",
      " | > stats_path:None\n",
      " | > base:10\n",
      " | > hop_length:256\n",
      " | > win_length:1024\n",
      " > Generator Model: hifigan_generator\n",
      " > Discriminator Model: hifigan_discriminator\n",
      "Removing weight norm...\n",
      " > Text splitted to sentences.\n",
      "['Firstly, let me introduce myself, my name is Ekaterina Valeria Esmeralda Elisabeth.', 'Just call me Evee.', 'I will guide you through this task.', \"Any time you miss something, just hit replay, otherwise let's get going, we have much to do!\"]\n",
      " > Processing time: 2.42189884185791\n",
      " > Real-time factor: 0.19368992657212974\n",
      " > Text splitted to sentences.\n",
      "['In each experiment, you will examine six different resources.', 'On each trial, some of the resources are used to form a small nebula.']\n",
      " > Processing time: 1.650317907333374\n",
      " > Real-time factor: 0.24321839860483996\n"
     ]
    },
    {
     "data": {
      "text/html": [
       "<div>\n",
       "<style scoped>\n",
       "    .dataframe tbody tr th:only-of-type {\n",
       "        vertical-align: middle;\n",
       "    }\n",
       "\n",
       "    .dataframe tbody tr th {\n",
       "        vertical-align: top;\n",
       "    }\n",
       "\n",
       "    .dataframe thead th {\n",
       "        text-align: right;\n",
       "    }\n",
       "</style>\n",
       "<table border=\"1\" class=\"dataframe\">\n",
       "  <thead>\n",
       "    <tr style=\"text-align: right;\">\n",
       "      <th></th>\n",
       "    </tr>\n",
       "  </thead>\n",
       "  <tbody>\n",
       "  </tbody>\n",
       "</table>\n",
       "</div>"
      ],
      "text/plain": [
       "Empty DataFrame\n",
       "Columns: []\n",
       "Index: []"
      ]
     },
     "execution_count": 34,
     "metadata": {},
     "output_type": "execute_result"
    }
   ],
   "source": [
    "def justprint(df, tts):\n",
    "    idx=int(df.index[0])\n",
    "    if (str(df.recorded[idx])==\"N\") & (str(df.type[idx]) == \"audio\"): \n",
    "        tts.tts_to_file(text=str(df.Text[idx]), \n",
    "                file_path=os.path.join(get_root(\".tasks_root\"), \"contextual-inference\", \"assets\", \"sound\", str(df.code[idx])+\".wav\"), \n",
    "                speed = 1, \n",
    "                pitch= 1)\n",
    "\n",
    "    return\n",
    "#tts = TTS(model_name=\"tts_models/en/ljspeech/tacotron2-DDC\")\n",
    "tts = TTS(model_name=\"tts_models/en/blizzard2013/capacitron-t2-c50\")\n",
    "\n",
    "textData.groupby(by=\"code\").apply(justprint, tts)"
   ]
  },
  {
   "cell_type": "code",
   "execution_count": null,
   "metadata": {},
   "outputs": [
    {
     "name": "stdout",
     "output_type": "stream",
     "text": [
      " > Text splitted to sentences.\n",
      "['Welcome to the Neutrino Lab.', 'In this lab you will be in charge of identifying how our Earth-based chemicals are modulated by high energy space particles.', 'BEWARE!', 'The nutrinos are coming!']\n",
      " > Processing time: 2.240931272506714\n",
      " > Real-time factor: 0.2243923170066803\n"
     ]
    },
    {
     "data": {
      "text/plain": [
       "'/data/drive/postdoc/grants/resources/tasks-and-sims-for-grants/contextual-inference/assets/sound/output.wav'"
      ]
     },
     "execution_count": 35,
     "metadata": {},
     "output_type": "execute_result"
    },
    {
     "name": "stderr",
     "output_type": "stream",
     "text": [
      "100%|██████████| 338M/338M [00:39<00:00, 12.0MiB/s]"
     ]
    }
   ],
   "source": [
    "# tts --list_models\n",
    "\n",
    "\n",
    "\n",
    "tts.tts_to_file(text=\"Welcome to the Neutrino Lab. In this lab you will be in charge of identifying how our Earth-based chemicals are modulated by high energy space particles. \\\n",
    "                BEWARE! The nutrinos are coming!\", \n",
    "                file_path=os.path.join(get_root(\".tasks_root\"), \"contextual-inference\", \"assets\", \"sound\", \"output.wav\"), \n",
    "                speed = 1, \n",
    "                pitch= 2)\n"
   ]
  },
  {
   "cell_type": "code",
   "execution_count": null,
   "metadata": {},
   "outputs": [],
   "source": []
  }
 ],
 "metadata": {
  "kernelspec": {
   "display_name": "python3.10",
   "language": "python",
   "name": "python3"
  },
  "language_info": {
   "codemirror_mode": {
    "name": "ipython",
    "version": 3
   },
   "file_extension": ".py",
   "mimetype": "text/x-python",
   "name": "python",
   "nbconvert_exporter": "python",
   "pygments_lexer": "ipython3",
   "version": "3.10.5"
  }
 },
 "nbformat": 4,
 "nbformat_minor": 2
}
